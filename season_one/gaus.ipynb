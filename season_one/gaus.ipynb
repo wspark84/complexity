{
 "cells": [
  {
   "cell_type": "markdown",
   "metadata": {},
   "source": [
    "# CH.8 가우스 소거법"
   ]
  },
  {
   "cell_type": "markdown",
   "metadata": {},
   "source": [
    "연립 1차 방정식의 해법의 하나로 보통 의미의 소거법을 조직적으로 정리한 것\n"
   ]
  },
  {
   "cell_type": "markdown",
   "metadata": {},
   "source": [
    "<img src=\"data:image/jpeg;base64,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" width=\"600\" >"
   ]
  },
  {
   "cell_type": "markdown",
   "metadata": {},
   "source": [
    "# 1) 기본적인 원리"
   ]
  },
  {
   "cell_type": "markdown",
   "metadata": {},
   "source": [
    "-> 다원 1차 연립방정식에서 방정식의 양변에 같은 수를 곱하거나 나누고, 다른 방정식과 더하거나 빼주어도 연립방정식의 근이 변하지 않는다는 것."
   ]
  },
  {
   "cell_type": "markdown",
   "metadata": {},
   "source": [
    "* 전진 소거"
   ]
  },
  {
   "cell_type": "markdown",
   "metadata": {},
   "source": [
    "* 후진 대입"
   ]
  },
  {
   "cell_type": "markdown",
   "metadata": {},
   "source": [
    "<img src=\"figures\\im4.png\" width=\"600\" >"
   ]
  },
  {
   "cell_type": "markdown",
   "metadata": {},
   "source": [
    "1.1) 주어진 벡터들의 생성에 대한 기저 찾기, 일차종속 테스트"
   ]
  },
  {
   "cell_type": "markdown",
   "metadata": {},
   "source": [
    "1.2) 행렬의 영공간에 대한 기저 찾기."
   ]
  },
  {
   "cell_type": "markdown",
   "metadata": {},
   "source": [
    "1.3) 행렬방정식의 해 구하기"
   ]
  },
  {
   "cell_type": "markdown",
   "metadata": {},
   "source": [
    "# 8.1 사다리꼴( Echelon form)"
   ]
  },
  {
   "cell_type": "markdown",
   "metadata": {},
   "source": [
    "사다리꼴 행렬은 삼각행렬을 인반화한 것"
   ]
  },
  {
   "cell_type": "markdown",
   "metadata": {},
   "source": [
    "정의 : m x n 행렬 A가 임의의 행에 대해, 만약 그 행의 첫 번째 영이 아닌 엔트리가 위치 K에 있으면 그 행 이전의 모든 행의 첫 번째 영이 아닌 엔트리는 k 보다 작은 어떤 위치에 있다."
   ]
  },
  {
   "cell_type": "markdown",
   "metadata": {},
   "source": [
    "* 일종의 계단 형식"
   ]
  },
  {
   "cell_type": "markdown",
   "metadata": {},
   "source": [
    "* 어떤 행이 모두 영이면, 그 행 다음에 오는 모든 행도 또한 모두 영이어야 함."
   ]
  },
  {
   "cell_type": "markdown",
   "metadata": {},
   "source": [
    "# 8.1.1 사다리꼴에서 행공간에 대한 기저로\n",
    "* 다음 행렬에서\n"
   ]
  },
  {
   "cell_type": "markdown",
   "metadata": {},
   "source": [
    "[4 1 3 0]"
   ]
  },
  {
   "cell_type": "markdown",
   "metadata": {},
   "source": [
    "[0 3 0 1]\n"
   ]
  },
  {
   "cell_type": "markdown",
   "metadata": {},
   "source": [
    "[0 0 1 7]"
   ]
  },
  {
   "cell_type": "markdown",
   "metadata": {},
   "source": [
    "[0 0 0 9]"
   ]
  },
  {
   "cell_type": "markdown",
   "metadata": {},
   "source": [
    "* 초기에 S=ø"
   ]
  },
  {
   "cell_type": "markdown",
   "metadata": {},
   "source": [
    "* span ø 은 [0 0 0 9] 을 포함하지 않으므로, 알고리즘은 이벡터를 S에 추가한다."
   ]
  },
  {
   "cell_type": "markdown",
   "metadata": {},
   "source": [
    "* 이제 S= [0 0 0 9]이다. Span S 내의 모든 벡터는 처음 세 위치에 영을 가지므로, Span S는  [0 0 1 7] 을 포함하지 않으며 그래서 알고리즘은 이 벡터를 S에 추가한다."
   ]
  },
  {
   "cell_type": "markdown",
   "metadata": {},
   "source": [
    "* 이제 S={[0 0 0 9], [0 0 1 7]} 이다. Span S 내의 모든 벡터는 처음 두 위치에 영을 가지므로, Span S는 [0 3 0 1]을 포함하지 않으며, 그래서 알고리즘은 이 벡터를 S에 추가한다."
   ]
  },
  {
   "cell_type": "markdown",
   "metadata": {},
   "source": [
    "* 이제 S ={[0009],[0017],[0301]} 이다. Span S 내의 모든 벡터는 첫 번째 위치에 영을 가지므로, Span s는 [4 1 3 0]포함하지 않으며, 그래서 알고리즘은 이 벡터를 S에 추가하고 종료한다."
   ]
  },
  {
   "cell_type": "code",
   "execution_count": null,
   "metadata": {
    "collapsed": true
   },
   "outputs": [],
   "source": [
    "def Grow(V)\n",
    "S = ;\n",
    "repeat while possible:\n",
    "find a vector v in V that is not in Span S, and put it in S"
   ]
  },
  {
   "cell_type": "markdown",
   "metadata": {},
   "source": [
    "# 8.1.2 사다리꼴 행렬의 행리스트"
   ]
  },
  {
   "cell_type": "code",
   "execution_count": null,
   "metadata": {
    "collapsed": true
   },
   "outputs": [],
   "source": [
    "col_label_list = sorted(rowlist[0].D, key=str)"
   ]
  },
  {
   "cell_type": "markdown",
   "metadata": {},
   "source": [
    "# 8.1.3 맨 왼쪽의 영이 아닌 위치에 의한 행들의 정렬"
   ]
  },
  {
   "cell_type": "markdown",
   "metadata": {},
   "source": [
    "<img src=\"figures\\im5.png\" width=\"600\" >"
   ]
  },
  {
   "cell_type": "markdown",
   "metadata": {},
   "source": [
    "<img src=\"figures\\im6.png\" width=\"600\" >"
   ]
  },
  {
   "cell_type": "markdown",
   "metadata": {},
   "source": [
    "<img src=\"figures\\im7.png\" width=\"600\" >"
   ]
  },
  {
   "cell_type": "markdown",
   "metadata": {},
   "source": [
    "<img src=\"figures\\im8.png\" width=\"600\" >"
   ]
  },
  {
   "cell_type": "code",
   "execution_count": null,
   "metadata": {
    "collapsed": true
   },
   "outputs": [],
   "source": [
    "new_rowlist = []\n",
    "rows_left = set(range(len(rowlist)))"
   ]
  },
  {
   "cell_type": "code",
   "execution_count": 34,
   "metadata": {
    "collapsed": false
   },
   "outputs": [
    {
     "ename": "NameError",
     "evalue": "name 'rowlist' is not defined",
     "output_type": "error",
     "traceback": [
      "\u001b[1;31m---------------------------------------------------------------------------\u001b[0m",
      "\u001b[1;31mNameError\u001b[0m                                 Traceback (most recent call last)",
      "\u001b[1;32m<ipython-input-34-0db6a07befa2>\u001b[0m in \u001b[0;36m<module>\u001b[1;34m()\u001b[0m\n\u001b[1;32m----> 1\u001b[1;33m \u001b[0mcol_label_list\u001b[0m \u001b[1;33m=\u001b[0m \u001b[0msorted\u001b[0m\u001b[1;33m(\u001b[0m\u001b[0mrowlist\u001b[0m\u001b[1;33m[\u001b[0m\u001b[1;36m0\u001b[0m\u001b[1;33m]\u001b[0m\u001b[1;33m.\u001b[0m\u001b[0mD\u001b[0m\u001b[1;33m,\u001b[0m \u001b[0mkey\u001b[0m\u001b[1;33m=\u001b[0m\u001b[0mstr\u001b[0m\u001b[1;33m)\u001b[0m\u001b[1;33m\u001b[0m\u001b[0m\n\u001b[0m\u001b[0;32m      2\u001b[0m \u001b[0mnew_rowlist\u001b[0m \u001b[1;33m=\u001b[0m \u001b[1;33m[\u001b[0m\u001b[1;33m]\u001b[0m\u001b[1;33m\u001b[0m\u001b[0m\n\u001b[0;32m      3\u001b[0m \u001b[0mrows_left\u001b[0m \u001b[1;33m=\u001b[0m \u001b[0mset\u001b[0m\u001b[1;33m(\u001b[0m\u001b[0mrange\u001b[0m\u001b[1;33m(\u001b[0m\u001b[0mlen\u001b[0m\u001b[1;33m(\u001b[0m\u001b[0mrowlist\u001b[0m\u001b[1;33m)\u001b[0m\u001b[1;33m)\u001b[0m\u001b[1;33m)\u001b[0m\u001b[1;33m\u001b[0m\u001b[0m\n",
      "\u001b[1;31mNameError\u001b[0m: name 'rowlist' is not defined"
     ]
    }
   ],
   "source": [
    "col_label_list = sorted(rowlist[0].D, key=str)\n",
    "new_rowlist = []\n",
    "rows_left = set(range(len(rowlist)))"
   ]
  },
  {
   "cell_type": "code",
   "execution_count": 37,
   "metadata": {
    "collapsed": false
   },
   "outputs": [
    {
     "ename": "IndentationError",
     "evalue": "expected an indented block (<ipython-input-37-23f2ad5551e9>, line 2)",
     "output_type": "error",
     "traceback": [
      "\u001b[1;36m  File \u001b[1;32m\"<ipython-input-37-23f2ad5551e9>\"\u001b[1;36m, line \u001b[1;32m2\u001b[0m\n\u001b[1;33m    rows_with_nonzero = [r for r in rows_left if rowlist[r][c] != 0]\u001b[0m\n\u001b[1;37m                    ^\u001b[0m\n\u001b[1;31mIndentationError\u001b[0m\u001b[1;31m:\u001b[0m expected an indented block\n"
     ]
    }
   ],
   "source": [
    "for c in col_label_list:\n",
    "rows_with_nonzero = [r for r in rows_left if rowlist[r][c] != 0]\n",
    "pivot = rows_with_nonzero[0]\n",
    "new_rowlist.append(rowlist[pivot])\n",
    "rows_left.remove(pivot)"
   ]
  },
  {
   "cell_type": "markdown",
   "metadata": {},
   "source": [
    "<img src=\"figures\\im9.png\" width=\"300\" >"
   ]
  },
  {
   "cell_type": "markdown",
   "metadata": {},
   "source": [
    "# 8.1.4 기본행덧셈 연산"
   ]
  },
  {
   "cell_type": "markdown",
   "metadata": {},
   "source": [
    "* 사다리꼴의 정의에 위배되는 경우 알고리즘은 기본행 덧셈연산을 수행하여 그 원소를 영으로 만들어 줘야 함"
   ]
  },
  {
   "cell_type": "markdown",
   "metadata": {},
   "source": [
    "<img src=\"figures\\im10.png\" width=\"400\" >"
   ]
  },
  {
   "cell_type": "markdown",
   "metadata": {},
   "source": [
    "<img src=\"figures\\im11.png\" width=\"600\" >"
   ]
  },
  {
   "cell_type": "markdown",
   "metadata": {},
   "source": [
    "* 이를 위한 코드는 다음과 같음\n",
    "유일하게 달라진 것은 루프를 추가한 것. 이 루프에서 피봇행의 적절한 배수를 남아 있는 다른 행들에서 뺀다."
   ]
  },
  {
   "cell_type": "code",
   "execution_count": null,
   "metadata": {
    "collapsed": true
   },
   "outputs": [],
   "source": [
    "for c in col label list:\n",
    "rows with nonzero = [r for r in rows left if rowlist[r][c] != 0]\n",
    "if rows with nonzero != []:\n",
    "pivot = rows with nonzero[0]\n",
    "rows left.remove(pivot)\n",
    "new rowlist.append(rowlist[pivot])\n",
    "for r in rows with nonzero[1:]:\n",
    "multiplier = rowlist[r][c]/rowlist[pivot][c]"
   ]
  },
  {
   "cell_type": "markdown",
   "metadata": {},
   "source": [
    "# 8.1.5 기본행덧셈 행렬에 의한 곱셈"
   ]
  },
  {
   "cell_type": "markdown",
   "metadata": {},
   "source": [
    "* 한 행의 배수를 다른 행에서 빼는 것은 그 행렬을 기본행덧셈 행렬과 곱함으로써 이루어질 수 있다."
   ]
  },
  {
   "cell_type": "markdown",
   "metadata": {},
   "source": [
    "# 8.1.6 행덧셈 연산은 행공간을 유지한다."
   ]
  },
  {
   "cell_type": "markdown",
   "metadata": {},
   "source": [
    "* 행렬을 사다리꼴로 변환하는 명목상의 목적은 그 행렬의 행공간에 대한 기저를 얻는 것이다. 행덧셈 연산은 행공간을 바꾸지 않는다. 그러므로, 변환된 행렬의 행공간에 대한 기저는 원래 행렬에 대한 기저이다."
   ]
  },
  {
   "cell_type": "markdown",
   "metadata": {},
   "source": [
    "# 8.1.7 가우스 소거법을 통한 기저, 랭크, 일차독립"
   ]
  },
  {
   "cell_type": "markdown",
   "metadata": {},
   "source": [
    "* 주어진 벡터들의 생성에 대한 기저를 찾는 프로시저를 가지고 있으므로, 랭크 및 일차독립에 대한 프로시저는 쉽게 작성할 수 있는데....\n",
    "과연 이것이 정확한가?"
   ]
  },
  {
   "cell_type": "markdown",
   "metadata": {},
   "source": [
    "# 8.1.8 가우스 소거법이 실패할 때"
   ]
  },
  {
   "cell_type": "markdown",
   "metadata": {},
   "source": [
    "* 파이썬은 부동소수를 사용하여 계산을 수행하고... 산술연산은 근사적으로만 옳음"
   ]
  },
  {
   "cell_type": "markdown",
   "metadata": {},
   "source": [
    "<img src=\"figures\\im12.png\" width=\"600\" >"
   ]
  },
  {
   "cell_type": "markdown",
   "metadata": {},
   "source": [
    "# 8.1.9 피봇팅 및 수치해석"
   ]
  },
  {
   "cell_type": "markdown",
   "metadata": {},
   "source": [
    "* 부분적 피봇팅 : 열 c에 영이 아닌 엔트리를 가지는 행 중에서 절대값이 가장 큰 엔트리를 가지는 행을 선택한다."
   ]
  },
  {
   "cell_type": "markdown",
   "metadata": {},
   "source": [
    "* 완전 피봇팅 : 미리 열의 순서를 선택하는 대신에 그때그때 피봇원소를 최대로 하는 각 열을 선택한다."
   ]
  },
  {
   "cell_type": "markdown",
   "metadata": {},
   "source": [
    "# 8.2 GF(2)상의 가우스 소거법"
   ]
  },
  {
   "cell_type": "markdown",
   "metadata": {},
   "source": [
    "<img src=\"figures\\im13.png\" width=\"600\" >"
   ]
  },
  {
   "cell_type": "markdown",
   "metadata": {},
   "source": [
    "<img src=\"figures\\im14.png\" width=\"600\" >"
   ]
  },
  {
   "cell_type": "markdown",
   "metadata": {},
   "source": [
    "# 8.3 다른 문제에 대해 가우스 소거법 사용하기"
   ]
  },
  {
   "cell_type": "markdown",
   "metadata": {},
   "source": [
    "* 선형 시스템의 해 구하기\n",
    "* 영공간에 대한 기저 찾기"
   ]
  },
  {
   "cell_type": "markdown",
   "metadata": {},
   "source": [
    "# 8.4 가우스 소거법을 사용하여 행렬- 벡터 방정식 풀기"
   ]
  },
  {
   "cell_type": "markdown",
   "metadata": {},
   "source": [
    "# 8.5 영공간에 대한 기저 찾기"
   ]
  },
  {
   "cell_type": "markdown",
   "metadata": {},
   "source": [
    "# 8.6 정수 인수분해"
   ]
  },
  {
   "cell_type": "markdown",
   "metadata": {},
   "source": [
    "* 임의의 양의 정수 N에 대해 곱이 N이 되는 유일한 소수의 그룹이 존재한다."
   ]
  },
  {
   "cell_type": "markdown",
   "metadata": {},
   "source": [
    "<img src=\"figures\\im15.png\" width=\"600\" >"
   ]
  },
  {
   "cell_type": "markdown",
   "metadata": {},
   "source": [
    "<img src=\"figures\\im16.png\" width=\"600\" >"
   ]
  },
  {
   "cell_type": "markdown",
   "metadata": {},
   "source": [
    "<img src=\"figures\\im17.png\" width=\"600\" >"
   ]
  },
  {
   "cell_type": "markdown",
   "metadata": {},
   "source": [
    "<img src=\"figures\\im18.png\" width=\"600\" >"
   ]
  },
  {
   "cell_type": "markdown",
   "metadata": {},
   "source": [
    "<img src=\"figures\\im19.png\" width=\"600\" >"
   ]
  }
 ],
 "metadata": {
  "kernelspec": {
   "display_name": "Python 2",
   "language": "python",
   "name": "python2"
  },
  "language_info": {
   "codemirror_mode": {
    "name": "ipython",
    "version": 2
   },
   "file_extension": ".py",
   "mimetype": "text/x-python",
   "name": "python",
   "nbconvert_exporter": "python",
   "pygments_lexer": "ipython2",
   "version": "2.7.9"
  }
 },
 "nbformat": 4,
 "nbformat_minor": 0
}
